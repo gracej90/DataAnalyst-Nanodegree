{
 "cells": [
  {
   "cell_type": "markdown",
   "metadata": {},
   "source": [
    "## Free Trial Screener Experiment\n",
    "\n",
    "By Grace Cho"
   ]
  },
  {
   "cell_type": "markdown",
   "metadata": {},
   "source": [
    "### Description\n",
    "\n",
    "At the time of this experiment, Udacity courses currently have two options on the home page: \"start free trial\", and \"access course materials\". If the student clicks \"start free trial\", they will be asked to enter their credit card information, and then they will be enrolled in a free trial for the paid version of the course. After 14 days, they will automatically be charged unless they cancel first. If the student clicks \"access course materials\", they will be able to view the videos and take the quizzes for free, but they will not receive coaching support or a verified certificate, and they will not submit their final project for feedback.\n",
    "\n",
    "In the experiment, Udacity tested a change where if the student clicked \"start free trial\", they were asked how much time they had available to devote to the course. If the student indicated 5 or more hours per week, they would be taken through the checkout process as usual. If they indicated fewer than 5 hours per week, a message would appear indicating that Udacity courses usually require a greater time commitment for successful completion, and suggesting that the student might like to access the course materials for free. At this point, the student would have the option to continue enrolling in the free trial, or access the course materials for free instead.\n",
    "\n",
    "Below screenshot shows what the experiment looks like.\n",
    "\n",
    "![](http://i.imgur.com/6M5yIp7.png)\n",
    "\n",
    "The hypothesis was that this might set clearer expectations for students upfront, thus reducing the number of frustrated students who left the free trial because they didn't have enough time—without significantly reducing the number of students to continue past the free trial and eventually complete the course. If this hypothesis held true, Udacity could improve the overall student experience and improve coaches' capacity to support students who are likely to complete the course.\n",
    "\n",
    "The unit of diversion is a cookie, although if the student enrolls in the free trial, they are tracked by user-id from that point forward. The same user-id cannot enroll in the free trial twice. For users that do not enroll, their user-id is not tracked in the experiment, even if they were signed in when they visited the course overview page.\n",
    "\n"
   ]
  },
  {
   "cell_type": "markdown",
   "metadata": {},
   "source": [
    "## Designing the AB Test"
   ]
  },
  {
   "cell_type": "markdown",
   "metadata": {},
   "source": [
    "#### Metric Choice\n",
    "\n",
    "For invariant metrics, I will use the following metrics:\n",
    "- Number of cookies: number of unique cookies to view the course overview page \n",
    "- Number of clicks: number of unique cookies to click the \"Start free trial\" button \n",
    " \n",
    "For evaluation metrics, I will use the following metrics: \n",
    "- Gross conversion: number of user-ids to complete checkout and enroll in free trial / number of unique cookies to click “start free trial” button (d min = 0.01)\n",
    "- Net conversion: number of user-ids to remain enrolled past 14-day boundary / number of unique cookies to click “start free trial” button (d min = 0.0075) \n",
    " \n",
    " \n",
    "In order to launch, we would look for the following results in the evalution metrics: \n",
    "- Decrease in gross conversion\n",
    "- No significant decrease in net conversion \n",
    "\n",
    "Above requirements would align with the goals of 1) reducing enrollments by students who are not as well-prepared, 2) without significantly reducing the number of students who complete the free trial and make at least one payment. "
   ]
  },
  {
   "cell_type": "markdown",
   "metadata": {},
   "source": [
    "#### Standard Deviation, no. of sample, and duration of experiment\n",
    "\n",
    "- Evaluation metric SD:\n",
    "    - Gross conversion: 0.0202 \n",
    "    - Net conversion: 0.0156 \n",
    " \n",
    "- Number of samples: 685325\n",
    "- Duration of experiment: 18 days\n",
    "\n",
    "For both gross and net conversion, as the unit of analysis (number of unique cookies to click “start free trial” button) and unit of diversion is the same, I would expect the analytical estimate to be comparable to the empirical variability."
   ]
  },
  {
   "cell_type": "markdown",
   "metadata": {},
   "source": [
    "## Experiment Analysis\n",
    "\n",
    "### Sanity Checks\n",
    "\n",
    "There are 3 invariant metrics we can sanity check: number of cookies, number of clicks, and click-through-probability. As shown below, sanity check passed for all 3 metrics, so it is not necessary to dig further into day-by-day data.\n",
    "\n",
    "1. Number of cookies\n",
    "    - confidence interval (0.4988, 0.5012)\n",
    "    - actual observed value (0.5006)\n",
    "    - observed value falls between CI -> pass\n",
    "2. Number of clicks \n",
    "    - confidence interval (0.4959, 0.5041)\n",
    "    - actual observed value (0.5005)\n",
    "    - observed value falls between CI -> pass\n",
    "3. Click-through-probability\n",
    "    - confidence interval (-0.0013, 0.0013)\n",
    "    - actual observed value (0.0001)\n",
    "    - observed value falls between CI -> pass\n",
    "\n",
    "### Result Analysis\n",
    "#### Effect Size Tests\n",
    "For gross conversion, the confidence interval is (-0291, -0.0120) and it is both statistically and practically significant. It is statistically significant as the confidence interval does not inlude 0, meaning we can be confident there was a change. It is practically significant as the confidence interval does not include the practical significance boundary (d min = +/- 0.01), meaning we can be confident there is a change that matters to the business. \n",
    " \n",
    "For net conversion, the confidence interval is (-0.0116, 0.0019) and it is neither statistically nor practicalyl signifcant since the confidence interval includes both 0 and the practical significance boundary (d min = +/- 0.0075). To double check the results, we will next do a sign test and see if its results agree with the confidence interval for the difference.\n",
    "\n",
    "#### SIgn Tests\n",
    "For gross conversion, the p-value is 0.0026 and it is statistically significant. For net conversion however, the p-value is 0.6776 which is fairly likley and it is not significant at an alpha level of 0.05\n",
    "\n",
    "#### Summary\n",
    "I did not use the Bonferroni correction, because I wanted both evaluation metrics (gross and net conversion) to show a significant change before launching. If I had only wanted a single metric (e.g. gross conversion) to be statistically significant to launch, it would have been a good idea to use the Bonferroni correction. \n",
    " \n",
    "To validate the effect size hypothesis tests, I ran sign tests and confirmed that there are no discrepancies between the effect size tests and the sign tests. While gross conversion results are significant, net conversion results are not significant in both tests.\n",
    "\n",
    "### Recommendation\n",
    "Based on the results, I would not recommend launching the change (yet). Although the gross conversion metric showed both statistically and practically significant results (verified by the sign test), the net conversion metric results are neither statistically significant nor practically significant (again verified by the sign test).  \n",
    " \n",
    "Looking at net conversion metric’s confidence interval (-0.0116, 0.0019), we can see that the lower bound is in the negative so it is possible that the change results in decrease of net conversion. However, the results we got from the experiment are not sufficient to draw a definite conclusion. As such, I’d recommend further testing to make sure net conversion is not being affected negatively before launching the change.\n",
    "\n",
    "### Follow-Up Experiment\n",
    "To reduce the number of frustrated students who cancel early in the course, I would try an experiment where when the student clicks “cancel trial” button, a “coaching support” page with 1:1 scheduler button shows up asking whether he / she would like to receive any guidance instead of cancelling. The only drawback would be that it does require coaching resources, which would make this diffiult to scale. \n",
    " \n",
    "As this would be a post-enrollment experiment, the evalution metric I would measure is retention: that is, the number of user-ids to remain enrolled past the 14-day boundary / number of user-ids to complete checkout. As the intervention happens after the students enroll, the invariant metric I would measure is number of user-ids: that is, the number of users who enroll in the free trial. \n",
    "\n",
    "For this post-enrollment experiment, the unit of diversion would be user ID. Cookies cannot be used to divert, because all pre-enrollment metrics would be de-coupled from the intervention. Hypothesis is that introducing a “coaching support” page would increase the net conversion rate."
   ]
  },
  {
   "cell_type": "markdown",
   "metadata": {},
   "source": [
    "---\n",
    "\n",
    "List of resources: \n",
    "- https://discussions.udacity.com/t/project-confusion-regarding-unit-of-diversion/206784/4 \n",
    "- https://discussions.udacity.com/t/effect-size-tests-caluclation-of-gross-conversions-confidence-interval/27181/10\n",
    "- https://discussions.udacity.com/t/final-lesson-duration-and-exposure-no-idea-how-to-progress/163802/21 "
   ]
  }
 ],
 "metadata": {
  "kernelspec": {
   "display_name": "Python [Root]",
   "language": "python",
   "name": "Python [Root]"
  },
  "language_info": {
   "codemirror_mode": {
    "name": "ipython",
    "version": 2
   },
   "file_extension": ".py",
   "mimetype": "text/x-python",
   "name": "python",
   "nbconvert_exporter": "python",
   "pygments_lexer": "ipython2",
   "version": "2.7.12"
  }
 },
 "nbformat": 4,
 "nbformat_minor": 0
}
