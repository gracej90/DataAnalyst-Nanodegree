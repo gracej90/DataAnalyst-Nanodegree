{
 "cells": [
  {
   "cell_type": "markdown",
   "metadata": {},
   "source": [
    "## Test a Perceptual Phenomenon: Stroop task"
   ]
  },
  {
   "cell_type": "markdown",
   "metadata": {},
   "source": [
    "In a Stroop task, participants are presented with a list of words, with each word displayed in a color of ink. The participant’s task is to say out loud the color of the ink in which the word is printed. The task has two conditions: a congruent words condition, and an incongruent words condition. \n",
    "\n",
    "In the congruent words condition, the words being displayed are color words whose names match the colors in which they are printed: for example RED, BLUE. In the incongruent words condition, the words displayed are color words whose names do not match the colors in which they are printed: for example PURPLE, ORANGE. In each case, we measure the time it takes to name the ink colors in equally-sized lists. Each participant will go through and record a time from each condition."
   ]
  },
  {
   "cell_type": "markdown",
   "metadata": {},
   "source": [
    "In this experiment, the dependent and indendepnt variables will be as follows.\n",
    "\n",
    "- Dependent variable: time it takes to name ink colors / recorded time to go through each condition (in seconds)\n",
    "- Independent variable: congruent and incongruent conditions for Stroop task"
   ]
  },
  {
   "cell_type": "markdown",
   "metadata": {},
   "source": [
    "We will conduct a 1-tailed paired t-test with an alpha of 0.05 and use the given sample data to make inferences about the population. The hypothesies are as follows.\n",
    "\n",
    "- H0: μC = μI - no difference in population means of response time under incongruent and congruent conditions. \n",
    "- HA : μI > μC - population mean of response time under incongruent condition will be higher than congruent condition and we will conduct a 1-tailed directional test."
   ]
  },
  {
   "cell_type": "markdown",
   "metadata": {},
   "source": [
    "Before we proceed, below are relevant assumptions we are making for this t-test.\n",
    "\n",
    "- Samples are random from a defined population.\n",
    "- Samples used to produce the difference scores are linked in population through repeated measurement."
   ]
  },
  {
   "cell_type": "markdown",
   "metadata": {},
   "source": [
    "#### Descriptive Statistics\n",
    "\n",
    "To carry out the t-test for paired samples, first we want to find the difference between sample means (denoted d). From out data, we find the mean of differences between samples is 7.96 and the sample standard deviation (denoted s) is 4.86 (note: Sample standard deviation was found using N-1). Following is a chart displaying the measures of central tendency and variability."
   ]
  },
  {
   "cell_type": "markdown",
   "metadata": {},
   "source": [
    "<img src=\"table.png\"/>"
   ]
  },
  {
   "cell_type": "markdown",
   "metadata": {},
   "source": [
    "#### Histograms of sample data - congruent vs. incongruent\n",
    "\n",
    "Looking at below histograms, we can observe a few things.  \n",
    "- Results of incongruent condition start and end further away in positive direction from 0, suggesting that it took participants longer to name the inked colors of incongruent set.\n",
    "- While the congruent graph shows a gradual decline in frequency over time, incongruent graph shows a more drastic drop and is fewer in frequency suggesting significant outliers. \n",
    "- Both graphs are positively skewed in that the long tail is in the positive direction. "
   ]
  },
  {
   "cell_type": "markdown",
   "metadata": {},
   "source": [
    "<img src=\"graphs.png\"/>"
   ]
  },
  {
   "cell_type": "markdown",
   "metadata": {},
   "source": [
    "### Findings\n",
    "\n",
    "- $\\alpha = 0.05, t_{critical} = 1.714$\n",
    "- T-statistic; $t(23) = 8.02, $ one-tailed\n",
    "- Confidence interval on the mean difference; $95\\%\\ CI = (6.26, 9.67)$\n",
    "- Cohen's d (effect size to indicate the difference between mean) = 1.64\n",
    "- Since t-statistic is past the critical value, reject the null hypothesis"
   ]
  },
  {
   "cell_type": "markdown",
   "metadata": {},
   "source": [
    "As expected, the results say it takes ~6 to ~10 seconds longer to complete the task in the incongruent condition.\n",
    "\n",
    "After research on the Stroop effect, I would explain the results with the processing speed theory. This theory suggests there is a “lag in the brain's ability to recognize the color of the word since the brain reads words faster than it recognizes colors.” [1] A similar task would be showing words before its colors and colors of the word before its word and comparing the results."
   ]
  },
  {
   "cell_type": "markdown",
   "metadata": {},
   "source": [
    "*Note: spreadsheet with calculations can be found [here](https://docs.google.com/spreadsheets/d/1virRzaSTVeT4PIY3toqC8SFXFYb4WQfGBlq5NgLeVwk/edit#gid=1999713852).\n",
    "\n",
    "---\n",
    "\n",
    "Resources:\n",
    "\n",
    "- https://en.wikipedia.org/wiki/Stroop_effect\n",
    "- http://support.minitab.com/en-us/minitab/17/topic-library/basic-statistics-and-graphs/hypothesis-tests/tests-of-means/types-of-t-tests/"
   ]
  }
 ],
 "metadata": {
  "kernelspec": {
   "display_name": "Python [Root]",
   "language": "python",
   "name": "Python [Root]"
  },
  "language_info": {
   "codemirror_mode": {
    "name": "ipython",
    "version": 2
   },
   "file_extension": ".py",
   "mimetype": "text/x-python",
   "name": "python",
   "nbconvert_exporter": "python",
   "pygments_lexer": "ipython2",
   "version": "2.7.12"
  }
 },
 "nbformat": 4,
 "nbformat_minor": 0
}
